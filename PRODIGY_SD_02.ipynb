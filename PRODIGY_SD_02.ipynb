{
 "cells": [
  {
   "cell_type": "code",
   "execution_count": null,
   "id": "6d4ee2a0",
   "metadata": {},
   "outputs": [
    {
     "name": "stdout",
     "output_type": "stream",
     "text": [
      "Welcome to the Number Guessing Game! I'm thinking of a number between 1 and 10000.\n",
      "Guess the number: 210\n",
      "Too low. Try again.\n"
     ]
    }
   ],
   "source": [
    "#task-2\n",
    "import random\n",
    "\n",
    "def number_guessing_game():\n",
    "    lower_bound = 1\n",
    "    upper_bound = 10000  # You can change the upper limit as desired\n",
    "    secret_number = random.randint(lower_bound, upper_bound)\n",
    "    \n",
    "    attempts = 0\n",
    "    \n",
    "    print(f\"Welcome to the Number Guessing Game! I'm thinking of a number between {lower_bound} and {upper_bound}.\")\n",
    "    \n",
    "    while True:\n",
    "        guess = int(input(\"Guess the number: \"))\n",
    "        attempts += 1\n",
    "        \n",
    "        if guess < secret_number:\n",
    "            print(\"Too low. Try again.\")\n",
    "        elif guess > secret_number:\n",
    "            print(\"Too high. Try again.\")\n",
    "        else:\n",
    "            print(f\"Congratulations! You guessed the correct number {secret_number} in {attempts} attempts.\")\n",
    "            break\n",
    "\n",
    "number_guessing_game()\n"
   ]
  },
  {
   "cell_type": "code",
   "execution_count": null,
   "id": "2a226052",
   "metadata": {},
   "outputs": [],
   "source": []
  }
 ],
 "metadata": {
  "kernelspec": {
   "display_name": "Python 3 (ipykernel)",
   "language": "python",
   "name": "python3"
  },
  "language_info": {
   "codemirror_mode": {
    "name": "ipython",
    "version": 3
   },
   "file_extension": ".py",
   "mimetype": "text/x-python",
   "name": "python",
   "nbconvert_exporter": "python",
   "pygments_lexer": "ipython3",
   "version": "3.11.5"
  }
 },
 "nbformat": 4,
 "nbformat_minor": 5
}
